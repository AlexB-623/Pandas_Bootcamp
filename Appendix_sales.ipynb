{
 "cells": [
  {
   "cell_type": "code",
   "id": "initial_id",
   "metadata": {
    "collapsed": true,
    "ExecuteTime": {
     "end_time": "2025-02-25T19:47:16.425793Z",
     "start_time": "2025-02-25T19:47:15.967379Z"
    }
   },
   "source": [
    "import pandas as pd\n",
    "import numpy as np"
   ],
   "outputs": [],
   "execution_count": 1
  },
  {
   "metadata": {
    "ExecuteTime": {
     "end_time": "2025-02-25T19:47:16.440006Z",
     "start_time": "2025-02-25T19:47:16.425793Z"
    }
   },
   "cell_type": "code",
   "source": "sales = pd.read_csv('sales.csv', index_col = 0)",
   "id": "8d5ea3e13bf6b2a6",
   "outputs": [],
   "execution_count": 2
  },
  {
   "metadata": {
    "ExecuteTime": {
     "end_time": "2025-02-25T19:47:16.552481Z",
     "start_time": "2025-02-25T19:47:16.540596Z"
    }
   },
   "cell_type": "code",
   "source": "sales",
   "id": "d6b90cd6a3bb4205",
   "outputs": [
    {
     "data": {
      "text/plain": [
       "        Mon  Tue  Wed   Thu  Fri\n",
       "Steven   34   27   15   NaN   33\n",
       "Mike     45    9   74  87.0   12\n",
       "Andi     17   33   54   8.0   29\n",
       "Paul     87   67   27  45.0    7"
      ],
      "text/html": [
       "<div>\n",
       "<style scoped>\n",
       "    .dataframe tbody tr th:only-of-type {\n",
       "        vertical-align: middle;\n",
       "    }\n",
       "\n",
       "    .dataframe tbody tr th {\n",
       "        vertical-align: top;\n",
       "    }\n",
       "\n",
       "    .dataframe thead th {\n",
       "        text-align: right;\n",
       "    }\n",
       "</style>\n",
       "<table border=\"1\" class=\"dataframe\">\n",
       "  <thead>\n",
       "    <tr style=\"text-align: right;\">\n",
       "      <th></th>\n",
       "      <th>Mon</th>\n",
       "      <th>Tue</th>\n",
       "      <th>Wed</th>\n",
       "      <th>Thu</th>\n",
       "      <th>Fri</th>\n",
       "    </tr>\n",
       "  </thead>\n",
       "  <tbody>\n",
       "    <tr>\n",
       "      <th>Steven</th>\n",
       "      <td>34</td>\n",
       "      <td>27</td>\n",
       "      <td>15</td>\n",
       "      <td>NaN</td>\n",
       "      <td>33</td>\n",
       "    </tr>\n",
       "    <tr>\n",
       "      <th>Mike</th>\n",
       "      <td>45</td>\n",
       "      <td>9</td>\n",
       "      <td>74</td>\n",
       "      <td>87.0</td>\n",
       "      <td>12</td>\n",
       "    </tr>\n",
       "    <tr>\n",
       "      <th>Andi</th>\n",
       "      <td>17</td>\n",
       "      <td>33</td>\n",
       "      <td>54</td>\n",
       "      <td>8.0</td>\n",
       "      <td>29</td>\n",
       "    </tr>\n",
       "    <tr>\n",
       "      <th>Paul</th>\n",
       "      <td>87</td>\n",
       "      <td>67</td>\n",
       "      <td>27</td>\n",
       "      <td>45.0</td>\n",
       "      <td>7</td>\n",
       "    </tr>\n",
       "  </tbody>\n",
       "</table>\n",
       "</div>"
      ]
     },
     "execution_count": 3,
     "metadata": {},
     "output_type": "execute_result"
    }
   ],
   "execution_count": 3
  },
  {
   "metadata": {
    "ExecuteTime": {
     "end_time": "2025-02-25T19:47:50.256824Z",
     "start_time": "2025-02-25T19:47:50.250234Z"
    }
   },
   "cell_type": "code",
   "source": "sales.min(numeric_only=True, axis=1)",
   "id": "efc3c8222e4a1508",
   "outputs": [
    {
     "data": {
      "text/plain": [
       "Steven    15.0\n",
       "Mike       9.0\n",
       "Andi       8.0\n",
       "Paul       7.0\n",
       "dtype: float64"
      ]
     },
     "execution_count": 9,
     "metadata": {},
     "output_type": "execute_result"
    }
   ],
   "execution_count": 9
  },
  {
   "metadata": {
    "ExecuteTime": {
     "end_time": "2025-02-25T19:47:53.143785Z",
     "start_time": "2025-02-25T19:47:53.133102Z"
    }
   },
   "cell_type": "code",
   "source": "sales.max(numeric_only=True, axis=1)",
   "id": "f33804c19de7fc59",
   "outputs": [
    {
     "data": {
      "text/plain": [
       "Steven    34.0\n",
       "Mike      87.0\n",
       "Andi      54.0\n",
       "Paul      87.0\n",
       "dtype: float64"
      ]
     },
     "execution_count": 10,
     "metadata": {},
     "output_type": "execute_result"
    }
   ],
   "execution_count": 10
  },
  {
   "metadata": {},
   "cell_type": "code",
   "source": [
    "def range(series):\n",
    "    return series.max() - series.min()"
   ],
   "id": "f398667058dd06b4",
   "outputs": [],
   "execution_count": null
  },
  {
   "metadata": {
    "ExecuteTime": {
     "end_time": "2025-02-25T19:49:05.470977Z",
     "start_time": "2025-02-25T19:49:05.461544Z"
    }
   },
   "cell_type": "code",
   "source": "sales.apply(range, axis=1)",
   "id": "9f1856f33164946e",
   "outputs": [
    {
     "data": {
      "text/plain": [
       "Steven    19.0\n",
       "Mike      78.0\n",
       "Andi      46.0\n",
       "Paul      80.0\n",
       "dtype: float64"
      ]
     },
     "execution_count": 11,
     "metadata": {},
     "output_type": "execute_result"
    }
   ],
   "execution_count": 11
  },
  {
   "metadata": {
    "ExecuteTime": {
     "end_time": "2025-02-25T19:47:16.844036Z",
     "start_time": "2025-02-25T19:47:16.826464Z"
    }
   },
   "cell_type": "code",
   "source": "sales.apply(lambda series: series.max() - series.min(), axis=1)",
   "id": "811983c8512f0ab5",
   "outputs": [
    {
     "data": {
      "text/plain": [
       "Steven    19.0\n",
       "Mike      78.0\n",
       "Andi      46.0\n",
       "Paul      80.0\n",
       "dtype: float64"
      ]
     },
     "execution_count": 7,
     "metadata": {},
     "output_type": "execute_result"
    }
   ],
   "execution_count": 7
  },
  {
   "metadata": {
    "ExecuteTime": {
     "end_time": "2025-02-25T19:47:16.952072Z",
     "start_time": "2025-02-25T19:47:16.947402Z"
    }
   },
   "cell_type": "code",
   "source": "",
   "id": "c4c14c174560b518",
   "outputs": [],
   "execution_count": null
  }
 ],
 "metadata": {
  "kernelspec": {
   "display_name": "Python 3",
   "language": "python",
   "name": "python3"
  },
  "language_info": {
   "codemirror_mode": {
    "name": "ipython",
    "version": 2
   },
   "file_extension": ".py",
   "mimetype": "text/x-python",
   "name": "python",
   "nbconvert_exporter": "python",
   "pygments_lexer": "ipython2",
   "version": "2.7.6"
  }
 },
 "nbformat": 4,
 "nbformat_minor": 5
}
